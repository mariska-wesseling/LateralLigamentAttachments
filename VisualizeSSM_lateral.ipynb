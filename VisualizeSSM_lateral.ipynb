{
 "cells": [
  {
   "cell_type": "markdown",
   "id": "41efce2e",
   "metadata": {},
   "source": [
    "# Interactive figure ligament attachment locations anterior and posterior cruciate ligaments"
   ]
  },
  {
   "cell_type": "markdown",
   "id": "82bf2938",
   "metadata": {},
   "source": [
    "3D figures showing the ligament attachment locations of the ACL and PCL ligaments on the mean SSM shape of the femur and tibia. Interactive figure for paper: Voskuijl, T., Wesseling, M., Pennings, M., Piscaer, T., Hanff, D., Meuffels, D.E. \"The adaption of anterior and posterior cruciate ligament attachment sites to the variance of three dimensional bony knee shapes\". Submitted to American Journal of Sports Medicine."
   ]
  },
  {
   "cell_type": "markdown",
   "id": "f62c931d",
   "metadata": {},
   "source": [
    "## Femur"
   ]
  },
  {
   "cell_type": "code",
   "execution_count": 1,
   "id": "80629b7f",
   "metadata": {},
   "outputs": [],
   "source": [
    "from IPython.display import IFrame, display"
   ]
  },
  {
   "cell_type": "code",
   "execution_count": 2,
   "id": "a246fc58",
   "metadata": {},
   "outputs": [],
   "source": [
    "femur=IFrame(src=r\".\\data\\SSMfemur_lateral.html\", width=950, height=950)"
   ]
  },
  {
   "cell_type": "code",
   "execution_count": 3,
   "id": "42389f83",
   "metadata": {},
   "outputs": [
    {
     "data": {
      "text/html": [
       "\n",
       "        <iframe\n",
       "            width=\"500\"\n",
       "            height=\"100\"\n",
       "            src=\".\\data\\legend.png\"\n",
       "            frameborder=\"0\"\n",
       "            allowfullscreen\n",
       "            \n",
       "        ></iframe>\n",
       "        "
      ],
      "text/plain": [
       "<IPython.lib.display.IFrame at 0x28a46c115b0>"
      ]
     },
     "metadata": {},
     "output_type": "display_data"
    },
    {
     "data": {
      "text/html": [
       "\n",
       "        <iframe\n",
       "            width=\"950\"\n",
       "            height=\"950\"\n",
       "            src=\".\\data\\SSMfemur_lateral.html\"\n",
       "            frameborder=\"0\"\n",
       "            allowfullscreen\n",
       "            \n",
       "        ></iframe>\n",
       "        "
      ],
      "text/plain": [
       "<IPython.lib.display.IFrame at 0x28a46c1fd60>"
      ]
     },
     "metadata": {},
     "output_type": "display_data"
    }
   ],
   "source": [
    "display(IFrame(src = r\".\\data\\legend.png\", width=500, height=100))\n",
    "display(femur)"
   ]
  },
  {
   "cell_type": "markdown",
   "id": "89efac14",
   "metadata": {},
   "source": [
    "## Fibula"
   ]
  },
  {
   "cell_type": "code",
   "execution_count": 4,
   "id": "2dc7e85b",
   "metadata": {},
   "outputs": [],
   "source": [
    "tibia = IFrame(src=r\".\\data\\SSMfibula_lateral.html\", width=950, height=950)"
   ]
  },
  {
   "cell_type": "code",
   "execution_count": 5,
   "id": "59a40f53",
   "metadata": {},
   "outputs": [
    {
     "data": {
      "text/html": [
       "\n",
       "        <iframe\n",
       "            width=\"500\"\n",
       "            height=\"100\"\n",
       "            src=\".\\data\\legend.png\"\n",
       "            frameborder=\"0\"\n",
       "            allowfullscreen\n",
       "            \n",
       "        ></iframe>\n",
       "        "
      ],
      "text/plain": [
       "<IPython.lib.display.IFrame at 0x28a47c30550>"
      ]
     },
     "metadata": {},
     "output_type": "display_data"
    },
    {
     "data": {
      "text/html": [
       "\n",
       "        <iframe\n",
       "            width=\"950\"\n",
       "            height=\"950\"\n",
       "            src=\".\\data\\SSMfibula_lateral.html\"\n",
       "            frameborder=\"0\"\n",
       "            allowfullscreen\n",
       "            \n",
       "        ></iframe>\n",
       "        "
      ],
      "text/plain": [
       "<IPython.lib.display.IFrame at 0x28a46c1fd30>"
      ]
     },
     "metadata": {},
     "output_type": "display_data"
    }
   ],
   "source": [
    "display(IFrame(src = r\".\\data\\legend.png\", width=500, height=100))\n",
    "display(tibia)"
   ]
  },
  {
   "cell_type": "markdown",
   "id": "aa715445",
   "metadata": {},
   "source": [
    "https://creativecommons.org/licenses/by/4.0/"
   ]
  }
 ],
 "metadata": {
  "kernelspec": {
   "display_name": "Python 3 (ipykernel)",
   "language": "python",
   "name": "python3"
  },
  "language_info": {
   "codemirror_mode": {
    "name": "ipython",
    "version": 3
   },
   "file_extension": ".py",
   "mimetype": "text/x-python",
   "name": "python",
   "nbconvert_exporter": "python",
   "pygments_lexer": "ipython3",
   "version": "3.9.12"
  },
  "latex_envs": {
   "LaTeX_envs_menu_present": true,
   "autoclose": false,
   "autocomplete": true,
   "bibliofile": "biblio.bib",
   "cite_by": "apalike",
   "current_citInitial": 1,
   "eqLabelWithNumbers": true,
   "eqNumInitial": 1,
   "hotkeys": {
    "equation": "Ctrl-E",
    "itemize": "Ctrl-I"
   },
   "labels_anchors": false,
   "latex_user_defs": false,
   "report_style_numbering": false,
   "user_envs_cfg": false
  },
  "toc": {
   "base_numbering": 1,
   "nav_menu": {},
   "number_sections": true,
   "sideBar": true,
   "skip_h1_title": false,
   "title_cell": "Table of Contents",
   "title_sidebar": "Contents",
   "toc_cell": false,
   "toc_position": {},
   "toc_section_display": true,
   "toc_window_display": false
  }
 },
 "nbformat": 4,
 "nbformat_minor": 5
}
